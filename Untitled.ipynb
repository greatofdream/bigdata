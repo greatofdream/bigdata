{
 "cells": [
  {
   "cell_type": "code",
   "execution_count": 1,
   "metadata": {},
   "outputs": [],
   "source": [
    "import numpy as np\n",
    "import pandas as pd\n",
    "import datetime as dt\n",
    "import sys\n",
    "import src.rfm"
   ]
  },
  {
   "cell_type": "code",
   "execution_count": 2,
   "metadata": {},
   "outputs": [
    {
     "name": "stdout",
     "output_type": "stream",
     "text": [
      "duplicate quantity=0\n",
      "NAN quantity=0\n"
     ]
    }
   ],
   "source": [
    "finName = \"./data/example.csv\"\n",
    "sqlName = \"./data/buildTableU.sql\"\n",
    "name = src.rfm.extractHeader(sqlName)\n",
    "dataAll = pd.read_csv(finName, sep = '\\t',names = name[0]['会员消费菜品事实表'], header = None)\n",
    "filterName = ['会员编号', '消费日期', '消费时间', '菜品编号', '菜品名称', '菜品数量', '菜品单价' ]\n",
    "\n",
    "data = pd.DataFrame(dataAll, columns = filterName, dtype = 'object')\n",
    "# exclude duplicate and null\n",
    "dataNodup = data.drop_duplicates()\n",
    "print('duplicate quantity={}'.format(data.shape[0] - dataNodup.shape[0]))\n",
    "dataNodup = dataNodup.infer_objects()\n",
    "dataClear = dataNodup.dropna(how = 'any')\n",
    "print('NAN quantity={}'.format(dataNodup.shape[0] - dataClear.shape[0]))"
   ]
  },
  {
   "cell_type": "code",
   "execution_count": 3,
   "metadata": {},
   "outputs": [
    {
     "data": {
      "text/plain": [
       "会员编号      int64\n",
       "消费日期     object\n",
       "消费时间     object\n",
       "菜品编号      int64\n",
       "菜品名称     object\n",
       "菜品数量      int64\n",
       "菜品单价    float64\n",
       "dtype: object"
      ]
     },
     "execution_count": 3,
     "metadata": {},
     "output_type": "execute_result"
    }
   ],
   "source": [
    "dataClear.head()\n",
    "dataClear.dtypes"
   ]
  },
  {
   "cell_type": "code",
   "execution_count": 4,
   "metadata": {},
   "outputs": [
    {
     "data": {
      "text/plain": [
       "'2018-11-03'"
      ]
     },
     "execution_count": 4,
     "metadata": {},
     "output_type": "execute_result"
    }
   ],
   "source": [
    "a=dataClear['消费时间'][0:2]\n",
    "b=dataClear['消费日期'][0:2]\n",
    "b[0]"
   ]
  },
  {
   "cell_type": "code",
   "execution_count": 5,
   "metadata": {},
   "outputs": [
    {
     "data": {
      "text/plain": [
       "datetime.date(2018, 11, 3)"
      ]
     },
     "execution_count": 5,
     "metadata": {},
     "output_type": "execute_result"
    }
   ],
   "source": [
    "t=b[0].split('-')\n",
    "dt.date(int(t[0]),int(t[1]),int(t[2]))"
   ]
  },
  {
   "cell_type": "code",
   "execution_count": 6,
   "metadata": {},
   "outputs": [],
   "source": [
    "dataClear['price'] = dataClear['菜品数量']*dataClear['菜品单价']"
   ]
  },
  {
   "cell_type": "code",
   "execution_count": 7,
   "metadata": {},
   "outputs": [
    {
     "data": {
      "text/html": [
       "<div>\n",
       "<style scoped>\n",
       "    .dataframe tbody tr th:only-of-type {\n",
       "        vertical-align: middle;\n",
       "    }\n",
       "\n",
       "    .dataframe tbody tr th {\n",
       "        vertical-align: top;\n",
       "    }\n",
       "\n",
       "    .dataframe thead th {\n",
       "        text-align: right;\n",
       "    }\n",
       "</style>\n",
       "<table border=\"1\" class=\"dataframe\">\n",
       "  <thead>\n",
       "    <tr style=\"text-align: right;\">\n",
       "      <th></th>\n",
       "      <th>会员编号</th>\n",
       "      <th>消费日期</th>\n",
       "      <th>消费时间</th>\n",
       "      <th>菜品编号</th>\n",
       "      <th>菜品名称</th>\n",
       "      <th>菜品数量</th>\n",
       "      <th>菜品单价</th>\n",
       "      <th>price</th>\n",
       "    </tr>\n",
       "  </thead>\n",
       "  <tbody>\n",
       "    <tr>\n",
       "      <th>0</th>\n",
       "      <td>1033378582</td>\n",
       "      <td>2018-11-03</td>\n",
       "      <td>2018-11-03 16:57:41</td>\n",
       "      <td>1</td>\n",
       "      <td>菜品01</td>\n",
       "      <td>1</td>\n",
       "      <td>49.0</td>\n",
       "      <td>49.0</td>\n",
       "    </tr>\n",
       "    <tr>\n",
       "      <th>1</th>\n",
       "      <td>1033378582</td>\n",
       "      <td>2018-11-03</td>\n",
       "      <td>2018-11-03 16:57:41</td>\n",
       "      <td>10101</td>\n",
       "      <td>菜品010101</td>\n",
       "      <td>1</td>\n",
       "      <td>49.0</td>\n",
       "      <td>49.0</td>\n",
       "    </tr>\n",
       "    <tr>\n",
       "      <th>2</th>\n",
       "      <td>1033378582</td>\n",
       "      <td>2018-11-03</td>\n",
       "      <td>2018-11-03 16:57:41</td>\n",
       "      <td>2</td>\n",
       "      <td>菜品02</td>\n",
       "      <td>6</td>\n",
       "      <td>30.0</td>\n",
       "      <td>180.0</td>\n",
       "    </tr>\n",
       "    <tr>\n",
       "      <th>3</th>\n",
       "      <td>1033378582</td>\n",
       "      <td>2018-11-03</td>\n",
       "      <td>2018-11-03 16:57:41</td>\n",
       "      <td>20201</td>\n",
       "      <td>菜品020201</td>\n",
       "      <td>1</td>\n",
       "      <td>5.0</td>\n",
       "      <td>5.0</td>\n",
       "    </tr>\n",
       "    <tr>\n",
       "      <th>4</th>\n",
       "      <td>1033378582</td>\n",
       "      <td>2018-11-03</td>\n",
       "      <td>2018-11-03 16:57:41</td>\n",
       "      <td>20202</td>\n",
       "      <td>菜品020202</td>\n",
       "      <td>5</td>\n",
       "      <td>5.0</td>\n",
       "      <td>25.0</td>\n",
       "    </tr>\n",
       "  </tbody>\n",
       "</table>\n",
       "</div>"
      ],
      "text/plain": [
       "         会员编号        消费日期                 消费时间   菜品编号      菜品名称  菜品数量  菜品单价  \\\n",
       "0  1033378582  2018-11-03  2018-11-03 16:57:41      1      菜品01     1  49.0   \n",
       "1  1033378582  2018-11-03  2018-11-03 16:57:41  10101  菜品010101     1  49.0   \n",
       "2  1033378582  2018-11-03  2018-11-03 16:57:41      2      菜品02     6  30.0   \n",
       "3  1033378582  2018-11-03  2018-11-03 16:57:41  20201  菜品020201     1   5.0   \n",
       "4  1033378582  2018-11-03  2018-11-03 16:57:41  20202  菜品020202     5   5.0   \n",
       "\n",
       "   price  \n",
       "0   49.0  \n",
       "1   49.0  \n",
       "2  180.0  \n",
       "3    5.0  \n",
       "4   25.0  "
      ]
     },
     "execution_count": 7,
     "metadata": {},
     "output_type": "execute_result"
    }
   ],
   "source": [
    "dataClear.head()"
   ]
  },
  {
   "cell_type": "code",
   "execution_count": 8,
   "metadata": {},
   "outputs": [],
   "source": [
    "d = pd.DataFrame(dataClear,columns = ['会员编号', '消费日期', '消费时间','price'])\n",
    "price = d.groupby(['会员编号', '消费日期', '消费时间']).sum()"
   ]
  },
  {
   "cell_type": "code",
   "execution_count": 9,
   "metadata": {},
   "outputs": [
    {
     "data": {
      "text/html": [
       "<div>\n",
       "<style scoped>\n",
       "    .dataframe tbody tr th:only-of-type {\n",
       "        vertical-align: middle;\n",
       "    }\n",
       "\n",
       "    .dataframe tbody tr th {\n",
       "        vertical-align: top;\n",
       "    }\n",
       "\n",
       "    .dataframe thead th {\n",
       "        text-align: right;\n",
       "    }\n",
       "</style>\n",
       "<table border=\"1\" class=\"dataframe\">\n",
       "  <thead>\n",
       "    <tr style=\"text-align: right;\">\n",
       "      <th></th>\n",
       "      <th></th>\n",
       "      <th></th>\n",
       "      <th>price</th>\n",
       "    </tr>\n",
       "    <tr>\n",
       "      <th>会员编号</th>\n",
       "      <th>消费日期</th>\n",
       "      <th>消费时间</th>\n",
       "      <th></th>\n",
       "    </tr>\n",
       "  </thead>\n",
       "  <tbody>\n",
       "    <tr>\n",
       "      <th>1027478498</th>\n",
       "      <th>2018-12-28</th>\n",
       "      <th>2018-12-28 19:11:13</th>\n",
       "      <td>439.5</td>\n",
       "    </tr>\n",
       "    <tr>\n",
       "      <th>1027500144</th>\n",
       "      <th>2018-11-27</th>\n",
       "      <th>2018-11-27 13:08:10</th>\n",
       "      <td>270.0</td>\n",
       "    </tr>\n",
       "    <tr>\n",
       "      <th>1030794986</th>\n",
       "      <th>2018-11-05</th>\n",
       "      <th>2018-11-05 11:04:12</th>\n",
       "      <td>1.0</td>\n",
       "    </tr>\n",
       "    <tr>\n",
       "      <th>1030797014</th>\n",
       "      <th>2018-11-24</th>\n",
       "      <th>2018-11-24 14:03:56</th>\n",
       "      <td>248.0</td>\n",
       "    </tr>\n",
       "    <tr>\n",
       "      <th>1030904479</th>\n",
       "      <th>2018-11-12</th>\n",
       "      <th>2018-11-12 11:16:39</th>\n",
       "      <td>4.0</td>\n",
       "    </tr>\n",
       "    <tr>\n",
       "      <th>...</th>\n",
       "      <th>...</th>\n",
       "      <th>...</th>\n",
       "      <td>...</td>\n",
       "    </tr>\n",
       "    <tr>\n",
       "      <th>1042623876</th>\n",
       "      <th>2018-12-31</th>\n",
       "      <th>2018-12-31 22:16:06</th>\n",
       "      <td>2321.0</td>\n",
       "    </tr>\n",
       "    <tr>\n",
       "      <th>1042624064</th>\n",
       "      <th>2018-12-31</th>\n",
       "      <th>2018-12-31 22:17:07</th>\n",
       "      <td>509.0</td>\n",
       "    </tr>\n",
       "    <tr>\n",
       "      <th>1042624974</th>\n",
       "      <th>2018-12-31</th>\n",
       "      <th>2018-12-31 22:27:38</th>\n",
       "      <td>1790.5</td>\n",
       "    </tr>\n",
       "    <tr>\n",
       "      <th>1042625808</th>\n",
       "      <th>2018-12-31</th>\n",
       "      <th>2018-12-31 22:50:55</th>\n",
       "      <td>560.0</td>\n",
       "    </tr>\n",
       "    <tr>\n",
       "      <th>1042626541</th>\n",
       "      <th>2018-12-31</th>\n",
       "      <th>2018-12-31 22:50:15</th>\n",
       "      <td>666.5</td>\n",
       "    </tr>\n",
       "  </tbody>\n",
       "</table>\n",
       "<p>7350 rows × 1 columns</p>\n",
       "</div>"
      ],
      "text/plain": [
       "                                            price\n",
       "会员编号       消费日期       消费时间                       \n",
       "1027478498 2018-12-28 2018-12-28 19:11:13   439.5\n",
       "1027500144 2018-11-27 2018-11-27 13:08:10   270.0\n",
       "1030794986 2018-11-05 2018-11-05 11:04:12     1.0\n",
       "1030797014 2018-11-24 2018-11-24 14:03:56   248.0\n",
       "1030904479 2018-11-12 2018-11-12 11:16:39     4.0\n",
       "...                                           ...\n",
       "1042623876 2018-12-31 2018-12-31 22:16:06  2321.0\n",
       "1042624064 2018-12-31 2018-12-31 22:17:07   509.0\n",
       "1042624974 2018-12-31 2018-12-31 22:27:38  1790.5\n",
       "1042625808 2018-12-31 2018-12-31 22:50:55   560.0\n",
       "1042626541 2018-12-31 2018-12-31 22:50:15   666.5\n",
       "\n",
       "[7350 rows x 1 columns]"
      ]
     },
     "execution_count": 9,
     "metadata": {},
     "output_type": "execute_result"
    }
   ],
   "source": [
    "price.groupby('会员编号').head()"
   ]
  },
  {
   "cell_type": "code",
   "execution_count": 10,
   "metadata": {},
   "outputs": [
    {
     "data": {
      "text/html": [
       "<div>\n",
       "<style scoped>\n",
       "    .dataframe tbody tr th:only-of-type {\n",
       "        vertical-align: middle;\n",
       "    }\n",
       "\n",
       "    .dataframe tbody tr th {\n",
       "        vertical-align: top;\n",
       "    }\n",
       "\n",
       "    .dataframe thead th {\n",
       "        text-align: right;\n",
       "    }\n",
       "</style>\n",
       "<table border=\"1\" class=\"dataframe\">\n",
       "  <thead>\n",
       "    <tr style=\"text-align: right;\">\n",
       "      <th></th>\n",
       "      <th>会员编号</th>\n",
       "      <th>消费日期</th>\n",
       "      <th>消费时间</th>\n",
       "      <th>price</th>\n",
       "    </tr>\n",
       "  </thead>\n",
       "  <tbody>\n",
       "    <tr>\n",
       "      <th>0</th>\n",
       "      <td>1027478498</td>\n",
       "      <td>2018-12-28</td>\n",
       "      <td>2018-12-28 19:11:13</td>\n",
       "      <td>439.5</td>\n",
       "    </tr>\n",
       "    <tr>\n",
       "      <th>1</th>\n",
       "      <td>1027500144</td>\n",
       "      <td>2018-11-27</td>\n",
       "      <td>2018-11-27 13:08:10</td>\n",
       "      <td>270.0</td>\n",
       "    </tr>\n",
       "    <tr>\n",
       "      <th>2</th>\n",
       "      <td>1030794986</td>\n",
       "      <td>2018-11-05</td>\n",
       "      <td>2018-11-05 11:04:12</td>\n",
       "      <td>1.0</td>\n",
       "    </tr>\n",
       "    <tr>\n",
       "      <th>3</th>\n",
       "      <td>1030797014</td>\n",
       "      <td>2018-11-24</td>\n",
       "      <td>2018-11-24 14:03:56</td>\n",
       "      <td>248.0</td>\n",
       "    </tr>\n",
       "    <tr>\n",
       "      <th>4</th>\n",
       "      <td>1030904479</td>\n",
       "      <td>2018-11-12</td>\n",
       "      <td>2018-11-12 11:16:39</td>\n",
       "      <td>4.0</td>\n",
       "    </tr>\n",
       "  </tbody>\n",
       "</table>\n",
       "</div>"
      ],
      "text/plain": [
       "         会员编号        消费日期                 消费时间  price\n",
       "0  1027478498  2018-12-28  2018-12-28 19:11:13  439.5\n",
       "1  1027500144  2018-11-27  2018-11-27 13:08:10  270.0\n",
       "2  1030794986  2018-11-05  2018-11-05 11:04:12    1.0\n",
       "3  1030797014  2018-11-24  2018-11-24 14:03:56  248.0\n",
       "4  1030904479  2018-11-12  2018-11-12 11:16:39    4.0"
      ]
     },
     "execution_count": 10,
     "metadata": {},
     "output_type": "execute_result"
    }
   ],
   "source": [
    "d = price.reset_index()\n",
    "d.head()"
   ]
  },
  {
   "cell_type": "code",
   "execution_count": 11,
   "metadata": {},
   "outputs": [],
   "source": [
    "date = pd.DataFrame(d,columns = ['会员编号', '消费日期'])"
   ]
  },
  {
   "cell_type": "code",
   "execution_count": 12,
   "metadata": {},
   "outputs": [
    {
     "data": {
      "text/html": [
       "<div>\n",
       "<style scoped>\n",
       "    .dataframe tbody tr th:only-of-type {\n",
       "        vertical-align: middle;\n",
       "    }\n",
       "\n",
       "    .dataframe tbody tr th {\n",
       "        vertical-align: top;\n",
       "    }\n",
       "\n",
       "    .dataframe thead th {\n",
       "        text-align: right;\n",
       "    }\n",
       "</style>\n",
       "<table border=\"1\" class=\"dataframe\">\n",
       "  <thead>\n",
       "    <tr style=\"text-align: right;\">\n",
       "      <th></th>\n",
       "      <th>会员编号</th>\n",
       "      <th>消费日期</th>\n",
       "    </tr>\n",
       "  </thead>\n",
       "  <tbody>\n",
       "    <tr>\n",
       "      <th>0</th>\n",
       "      <td>1027478498</td>\n",
       "      <td>2018-12-28</td>\n",
       "    </tr>\n",
       "    <tr>\n",
       "      <th>1</th>\n",
       "      <td>1027500144</td>\n",
       "      <td>2018-11-27</td>\n",
       "    </tr>\n",
       "    <tr>\n",
       "      <th>2</th>\n",
       "      <td>1030794986</td>\n",
       "      <td>2018-11-05</td>\n",
       "    </tr>\n",
       "    <tr>\n",
       "      <th>3</th>\n",
       "      <td>1030797014</td>\n",
       "      <td>2018-11-24</td>\n",
       "    </tr>\n",
       "    <tr>\n",
       "      <th>4</th>\n",
       "      <td>1030904479</td>\n",
       "      <td>2018-11-12</td>\n",
       "    </tr>\n",
       "    <tr>\n",
       "      <th>...</th>\n",
       "      <td>...</td>\n",
       "      <td>...</td>\n",
       "    </tr>\n",
       "    <tr>\n",
       "      <th>7519</th>\n",
       "      <td>1042623876</td>\n",
       "      <td>2018-12-31</td>\n",
       "    </tr>\n",
       "    <tr>\n",
       "      <th>7520</th>\n",
       "      <td>1042624064</td>\n",
       "      <td>2018-12-31</td>\n",
       "    </tr>\n",
       "    <tr>\n",
       "      <th>7521</th>\n",
       "      <td>1042624974</td>\n",
       "      <td>2018-12-31</td>\n",
       "    </tr>\n",
       "    <tr>\n",
       "      <th>7522</th>\n",
       "      <td>1042625808</td>\n",
       "      <td>2018-12-31</td>\n",
       "    </tr>\n",
       "    <tr>\n",
       "      <th>7523</th>\n",
       "      <td>1042626541</td>\n",
       "      <td>2018-12-31</td>\n",
       "    </tr>\n",
       "  </tbody>\n",
       "</table>\n",
       "<p>7350 rows × 2 columns</p>\n",
       "</div>"
      ],
      "text/plain": [
       "            会员编号        消费日期\n",
       "0     1027478498  2018-12-28\n",
       "1     1027500144  2018-11-27\n",
       "2     1030794986  2018-11-05\n",
       "3     1030797014  2018-11-24\n",
       "4     1030904479  2018-11-12\n",
       "...          ...         ...\n",
       "7519  1042623876  2018-12-31\n",
       "7520  1042624064  2018-12-31\n",
       "7521  1042624974  2018-12-31\n",
       "7522  1042625808  2018-12-31\n",
       "7523  1042626541  2018-12-31\n",
       "\n",
       "[7350 rows x 2 columns]"
      ]
     },
     "execution_count": 12,
     "metadata": {},
     "output_type": "execute_result"
    }
   ],
   "source": [
    "date = date.groupby('会员编号')\n",
    "date.head()"
   ]
  },
  {
   "cell_type": "code",
   "execution_count": 13,
   "metadata": {},
   "outputs": [],
   "source": [
    "recent = date['消费日期'].max()\n",
    "frequency = date['消费日期'].count()"
   ]
  },
  {
   "cell_type": "code",
   "execution_count": 14,
   "metadata": {},
   "outputs": [
    {
     "data": {
      "text/plain": [
       "会员编号\n",
       "1027478498    439.5\n",
       "1027500144    270.0\n",
       "1030794986      1.0\n",
       "1030797014    248.0\n",
       "1030904479      4.0\n",
       "Name: price, dtype: float64"
      ]
     },
     "execution_count": 14,
     "metadata": {},
     "output_type": "execute_result"
    }
   ],
   "source": [
    "pricesum = d.groupby('会员编号')['price'].sum()\n",
    "pricesum.head()"
   ]
  },
  {
   "cell_type": "code",
   "execution_count": 15,
   "metadata": {},
   "outputs": [],
   "source": [
    "recentMaxDate = dt.datetime.strptime(recent.max(),'%Y-%m-%d')+dt.timedelta(days=1)\n"
   ]
  },
  {
   "cell_type": "code",
   "execution_count": 16,
   "metadata": {},
   "outputs": [
    {
     "data": {
      "text/plain": [
       "会员编号\n",
       "1027478498     4\n",
       "1027500144    35\n",
       "1030794986    57\n",
       "1030797014    38\n",
       "1030904479    50\n",
       "Name: 消费日期, dtype: int64"
      ]
     },
     "execution_count": 16,
     "metadata": {},
     "output_type": "execute_result"
    }
   ],
   "source": [
    "recentDays= recent.map(lambda x: (recentMaxDate - dt.datetime.strptime(x,'%Y-%m-%d')).days)\n",
    "recentDays.head()"
   ]
  },
  {
   "cell_type": "code",
   "execution_count": 17,
   "metadata": {},
   "outputs": [
    {
     "data": {
      "text/plain": [
       "datetime.datetime(2019, 1, 1, 0, 0)"
      ]
     },
     "execution_count": 17,
     "metadata": {},
     "output_type": "execute_result"
    }
   ],
   "source": [
    "recentMaxDate"
   ]
  },
  {
   "cell_type": "code",
   "execution_count": 18,
   "metadata": {},
   "outputs": [
    {
     "data": {
      "text/html": [
       "<div>\n",
       "<style scoped>\n",
       "    .dataframe tbody tr th:only-of-type {\n",
       "        vertical-align: middle;\n",
       "    }\n",
       "\n",
       "    .dataframe tbody tr th {\n",
       "        vertical-align: top;\n",
       "    }\n",
       "\n",
       "    .dataframe thead th {\n",
       "        text-align: right;\n",
       "    }\n",
       "</style>\n",
       "<table border=\"1\" class=\"dataframe\">\n",
       "  <thead>\n",
       "    <tr style=\"text-align: right;\">\n",
       "      <th></th>\n",
       "      <th></th>\n",
       "      <th></th>\n",
       "      <th>price</th>\n",
       "    </tr>\n",
       "    <tr>\n",
       "      <th>会员编号</th>\n",
       "      <th>消费日期</th>\n",
       "      <th>消费时间</th>\n",
       "      <th></th>\n",
       "    </tr>\n",
       "  </thead>\n",
       "  <tbody>\n",
       "    <tr>\n",
       "      <th>1027478498</th>\n",
       "      <th>2018-12-28</th>\n",
       "      <th>2018-12-28 19:11:13</th>\n",
       "      <td>439.5</td>\n",
       "    </tr>\n",
       "    <tr>\n",
       "      <th>1027500144</th>\n",
       "      <th>2018-11-27</th>\n",
       "      <th>2018-11-27 13:08:10</th>\n",
       "      <td>270.0</td>\n",
       "    </tr>\n",
       "    <tr>\n",
       "      <th>1030794986</th>\n",
       "      <th>2018-11-05</th>\n",
       "      <th>2018-11-05 11:04:12</th>\n",
       "      <td>1.0</td>\n",
       "    </tr>\n",
       "    <tr>\n",
       "      <th>1030797014</th>\n",
       "      <th>2018-11-24</th>\n",
       "      <th>2018-11-24 14:03:56</th>\n",
       "      <td>248.0</td>\n",
       "    </tr>\n",
       "    <tr>\n",
       "      <th>1030904479</th>\n",
       "      <th>2018-11-12</th>\n",
       "      <th>2018-11-12 11:16:39</th>\n",
       "      <td>4.0</td>\n",
       "    </tr>\n",
       "    <tr>\n",
       "      <th>...</th>\n",
       "      <th>...</th>\n",
       "      <th>...</th>\n",
       "      <td>...</td>\n",
       "    </tr>\n",
       "    <tr>\n",
       "      <th>1042623876</th>\n",
       "      <th>2018-12-31</th>\n",
       "      <th>2018-12-31 22:16:06</th>\n",
       "      <td>2321.0</td>\n",
       "    </tr>\n",
       "    <tr>\n",
       "      <th>1042624064</th>\n",
       "      <th>2018-12-31</th>\n",
       "      <th>2018-12-31 22:17:07</th>\n",
       "      <td>509.0</td>\n",
       "    </tr>\n",
       "    <tr>\n",
       "      <th>1042624974</th>\n",
       "      <th>2018-12-31</th>\n",
       "      <th>2018-12-31 22:27:38</th>\n",
       "      <td>1790.5</td>\n",
       "    </tr>\n",
       "    <tr>\n",
       "      <th>1042625808</th>\n",
       "      <th>2018-12-31</th>\n",
       "      <th>2018-12-31 22:50:55</th>\n",
       "      <td>560.0</td>\n",
       "    </tr>\n",
       "    <tr>\n",
       "      <th>1042626541</th>\n",
       "      <th>2018-12-31</th>\n",
       "      <th>2018-12-31 22:50:15</th>\n",
       "      <td>666.5</td>\n",
       "    </tr>\n",
       "  </tbody>\n",
       "</table>\n",
       "<p>7524 rows × 1 columns</p>\n",
       "</div>"
      ],
      "text/plain": [
       "                                            price\n",
       "会员编号       消费日期       消费时间                       \n",
       "1027478498 2018-12-28 2018-12-28 19:11:13   439.5\n",
       "1027500144 2018-11-27 2018-11-27 13:08:10   270.0\n",
       "1030794986 2018-11-05 2018-11-05 11:04:12     1.0\n",
       "1030797014 2018-11-24 2018-11-24 14:03:56   248.0\n",
       "1030904479 2018-11-12 2018-11-12 11:16:39     4.0\n",
       "...                                           ...\n",
       "1042623876 2018-12-31 2018-12-31 22:16:06  2321.0\n",
       "1042624064 2018-12-31 2018-12-31 22:17:07   509.0\n",
       "1042624974 2018-12-31 2018-12-31 22:27:38  1790.5\n",
       "1042625808 2018-12-31 2018-12-31 22:50:55   560.0\n",
       "1042626541 2018-12-31 2018-12-31 22:50:15   666.5\n",
       "\n",
       "[7524 rows x 1 columns]"
      ]
     },
     "execution_count": 18,
     "metadata": {},
     "output_type": "execute_result"
    }
   ],
   "source": [
    "price.sort_values(by = '会员编号')"
   ]
  },
  {
   "cell_type": "code",
   "execution_count": 19,
   "metadata": {},
   "outputs": [],
   "source": [
    "rfm = pd.merge(pd.merge(pricesum,recentDays, on ='会员编号'),frequency,on='会员编号')"
   ]
  },
  {
   "cell_type": "code",
   "execution_count": 20,
   "metadata": {},
   "outputs": [
    {
     "data": {
      "text/html": [
       "<div>\n",
       "<style scoped>\n",
       "    .dataframe tbody tr th:only-of-type {\n",
       "        vertical-align: middle;\n",
       "    }\n",
       "\n",
       "    .dataframe tbody tr th {\n",
       "        vertical-align: top;\n",
       "    }\n",
       "\n",
       "    .dataframe thead th {\n",
       "        text-align: right;\n",
       "    }\n",
       "</style>\n",
       "<table border=\"1\" class=\"dataframe\">\n",
       "  <thead>\n",
       "    <tr style=\"text-align: right;\">\n",
       "      <th></th>\n",
       "      <th>price</th>\n",
       "      <th>消费日期_x</th>\n",
       "      <th>消费日期_y</th>\n",
       "    </tr>\n",
       "    <tr>\n",
       "      <th>会员编号</th>\n",
       "      <th></th>\n",
       "      <th></th>\n",
       "      <th></th>\n",
       "    </tr>\n",
       "  </thead>\n",
       "  <tbody>\n",
       "    <tr>\n",
       "      <th>1027478498</th>\n",
       "      <td>439.5</td>\n",
       "      <td>4</td>\n",
       "      <td>1</td>\n",
       "    </tr>\n",
       "    <tr>\n",
       "      <th>1027500144</th>\n",
       "      <td>270.0</td>\n",
       "      <td>35</td>\n",
       "      <td>1</td>\n",
       "    </tr>\n",
       "    <tr>\n",
       "      <th>1030794986</th>\n",
       "      <td>1.0</td>\n",
       "      <td>57</td>\n",
       "      <td>1</td>\n",
       "    </tr>\n",
       "    <tr>\n",
       "      <th>1030797014</th>\n",
       "      <td>248.0</td>\n",
       "      <td>38</td>\n",
       "      <td>1</td>\n",
       "    </tr>\n",
       "    <tr>\n",
       "      <th>1030904479</th>\n",
       "      <td>4.0</td>\n",
       "      <td>50</td>\n",
       "      <td>1</td>\n",
       "    </tr>\n",
       "  </tbody>\n",
       "</table>\n",
       "</div>"
      ],
      "text/plain": [
       "            price  消费日期_x  消费日期_y\n",
       "会员编号                             \n",
       "1027478498  439.5       4       1\n",
       "1027500144  270.0      35       1\n",
       "1030794986    1.0      57       1\n",
       "1030797014  248.0      38       1\n",
       "1030904479    4.0      50       1"
      ]
     },
     "execution_count": 20,
     "metadata": {},
     "output_type": "execute_result"
    }
   ],
   "source": [
    "rfm.shape\n",
    "rfm.head()"
   ]
  },
  {
   "cell_type": "code",
   "execution_count": 21,
   "metadata": {},
   "outputs": [],
   "source": [
    "rfm.rename(columns={'price':'money', '消费日期_x':'recent', '消费日期_y':'frequency'}, inplace=True)"
   ]
  },
  {
   "cell_type": "code",
   "execution_count": 22,
   "metadata": {},
   "outputs": [
    {
     "data": {
      "text/html": [
       "<div>\n",
       "<style scoped>\n",
       "    .dataframe tbody tr th:only-of-type {\n",
       "        vertical-align: middle;\n",
       "    }\n",
       "\n",
       "    .dataframe tbody tr th {\n",
       "        vertical-align: top;\n",
       "    }\n",
       "\n",
       "    .dataframe thead th {\n",
       "        text-align: right;\n",
       "    }\n",
       "</style>\n",
       "<table border=\"1\" class=\"dataframe\">\n",
       "  <thead>\n",
       "    <tr style=\"text-align: right;\">\n",
       "      <th></th>\n",
       "      <th>money</th>\n",
       "      <th>recent</th>\n",
       "      <th>frequency</th>\n",
       "    </tr>\n",
       "    <tr>\n",
       "      <th>会员编号</th>\n",
       "      <th></th>\n",
       "      <th></th>\n",
       "      <th></th>\n",
       "    </tr>\n",
       "  </thead>\n",
       "  <tbody>\n",
       "    <tr>\n",
       "      <th>1027478498</th>\n",
       "      <td>439.5</td>\n",
       "      <td>4</td>\n",
       "      <td>1</td>\n",
       "    </tr>\n",
       "    <tr>\n",
       "      <th>1027500144</th>\n",
       "      <td>270.0</td>\n",
       "      <td>35</td>\n",
       "      <td>1</td>\n",
       "    </tr>\n",
       "    <tr>\n",
       "      <th>1030794986</th>\n",
       "      <td>1.0</td>\n",
       "      <td>57</td>\n",
       "      <td>1</td>\n",
       "    </tr>\n",
       "    <tr>\n",
       "      <th>1030797014</th>\n",
       "      <td>248.0</td>\n",
       "      <td>38</td>\n",
       "      <td>1</td>\n",
       "    </tr>\n",
       "    <tr>\n",
       "      <th>1030904479</th>\n",
       "      <td>4.0</td>\n",
       "      <td>50</td>\n",
       "      <td>1</td>\n",
       "    </tr>\n",
       "  </tbody>\n",
       "</table>\n",
       "</div>"
      ],
      "text/plain": [
       "            money  recent  frequency\n",
       "会员编号                                \n",
       "1027478498  439.5       4          1\n",
       "1027500144  270.0      35          1\n",
       "1030794986    1.0      57          1\n",
       "1030797014  248.0      38          1\n",
       "1030904479    4.0      50          1"
      ]
     },
     "execution_count": 22,
     "metadata": {},
     "output_type": "execute_result"
    }
   ],
   "source": [
    "rfm.head()"
   ]
  },
  {
   "cell_type": "code",
   "execution_count": 23,
   "metadata": {},
   "outputs": [
    {
     "data": {
      "text/html": [
       "<div>\n",
       "<style scoped>\n",
       "    .dataframe tbody tr th:only-of-type {\n",
       "        vertical-align: middle;\n",
       "    }\n",
       "\n",
       "    .dataframe tbody tr th {\n",
       "        vertical-align: top;\n",
       "    }\n",
       "\n",
       "    .dataframe thead th {\n",
       "        text-align: right;\n",
       "    }\n",
       "</style>\n",
       "<table border=\"1\" class=\"dataframe\">\n",
       "  <thead>\n",
       "    <tr style=\"text-align: right;\">\n",
       "      <th></th>\n",
       "      <th>money</th>\n",
       "      <th>recent</th>\n",
       "      <th>frequency</th>\n",
       "    </tr>\n",
       "  </thead>\n",
       "  <tbody>\n",
       "    <tr>\n",
       "      <th>count</th>\n",
       "      <td>6513.000000</td>\n",
       "      <td>6513.000000</td>\n",
       "      <td>6513.000000</td>\n",
       "    </tr>\n",
       "    <tr>\n",
       "      <th>mean</th>\n",
       "      <td>1599.872407</td>\n",
       "      <td>19.560571</td>\n",
       "      <td>1.155228</td>\n",
       "    </tr>\n",
       "    <tr>\n",
       "      <th>std</th>\n",
       "      <td>2992.408568</td>\n",
       "      <td>12.387853</td>\n",
       "      <td>0.947976</td>\n",
       "    </tr>\n",
       "    <tr>\n",
       "      <th>min</th>\n",
       "      <td>1.000000</td>\n",
       "      <td>1.000000</td>\n",
       "      <td>1.000000</td>\n",
       "    </tr>\n",
       "    <tr>\n",
       "      <th>25%</th>\n",
       "      <td>632.000000</td>\n",
       "      <td>8.000000</td>\n",
       "      <td>1.000000</td>\n",
       "    </tr>\n",
       "    <tr>\n",
       "      <th>50%</th>\n",
       "      <td>1042.000000</td>\n",
       "      <td>19.000000</td>\n",
       "      <td>1.000000</td>\n",
       "    </tr>\n",
       "    <tr>\n",
       "      <th>75%</th>\n",
       "      <td>1748.500000</td>\n",
       "      <td>30.000000</td>\n",
       "      <td>1.000000</td>\n",
       "    </tr>\n",
       "    <tr>\n",
       "      <th>max</th>\n",
       "      <td>130870.000000</td>\n",
       "      <td>60.000000</td>\n",
       "      <td>36.000000</td>\n",
       "    </tr>\n",
       "  </tbody>\n",
       "</table>\n",
       "</div>"
      ],
      "text/plain": [
       "               money       recent    frequency\n",
       "count    6513.000000  6513.000000  6513.000000\n",
       "mean     1599.872407    19.560571     1.155228\n",
       "std      2992.408568    12.387853     0.947976\n",
       "min         1.000000     1.000000     1.000000\n",
       "25%       632.000000     8.000000     1.000000\n",
       "50%      1042.000000    19.000000     1.000000\n",
       "75%      1748.500000    30.000000     1.000000\n",
       "max    130870.000000    60.000000    36.000000"
      ]
     },
     "execution_count": 23,
     "metadata": {},
     "output_type": "execute_result"
    }
   ],
   "source": [
    "rfm.describe()"
   ]
  },
  {
   "cell_type": "code",
   "execution_count": 24,
   "metadata": {},
   "outputs": [
    {
     "data": {
      "text/html": [
       "<div>\n",
       "<style scoped>\n",
       "    .dataframe tbody tr th:only-of-type {\n",
       "        vertical-align: middle;\n",
       "    }\n",
       "\n",
       "    .dataframe tbody tr th {\n",
       "        vertical-align: top;\n",
       "    }\n",
       "\n",
       "    .dataframe thead th {\n",
       "        text-align: right;\n",
       "    }\n",
       "</style>\n",
       "<table border=\"1\" class=\"dataframe\">\n",
       "  <thead>\n",
       "    <tr style=\"text-align: right;\">\n",
       "      <th></th>\n",
       "      <th>money</th>\n",
       "      <th>recent</th>\n",
       "      <th>frequency</th>\n",
       "    </tr>\n",
       "  </thead>\n",
       "  <tbody>\n",
       "    <tr>\n",
       "      <th>count</th>\n",
       "      <td>6513.000000</td>\n",
       "      <td>6513.000000</td>\n",
       "      <td>6513.000000</td>\n",
       "    </tr>\n",
       "    <tr>\n",
       "      <th>mean</th>\n",
       "      <td>6.954187</td>\n",
       "      <td>2.642166</td>\n",
       "      <td>0.075954</td>\n",
       "    </tr>\n",
       "    <tr>\n",
       "      <th>std</th>\n",
       "      <td>0.872202</td>\n",
       "      <td>0.972301</td>\n",
       "      <td>0.279561</td>\n",
       "    </tr>\n",
       "    <tr>\n",
       "      <th>min</th>\n",
       "      <td>0.000000</td>\n",
       "      <td>0.000000</td>\n",
       "      <td>0.000000</td>\n",
       "    </tr>\n",
       "    <tr>\n",
       "      <th>25%</th>\n",
       "      <td>6.450000</td>\n",
       "      <td>2.080000</td>\n",
       "      <td>0.000000</td>\n",
       "    </tr>\n",
       "    <tr>\n",
       "      <th>50%</th>\n",
       "      <td>6.950000</td>\n",
       "      <td>2.940000</td>\n",
       "      <td>0.000000</td>\n",
       "    </tr>\n",
       "    <tr>\n",
       "      <th>75%</th>\n",
       "      <td>7.470000</td>\n",
       "      <td>3.400000</td>\n",
       "      <td>0.000000</td>\n",
       "    </tr>\n",
       "    <tr>\n",
       "      <th>max</th>\n",
       "      <td>11.780000</td>\n",
       "      <td>4.090000</td>\n",
       "      <td>3.580000</td>\n",
       "    </tr>\n",
       "  </tbody>\n",
       "</table>\n",
       "</div>"
      ],
      "text/plain": [
       "             money       recent    frequency\n",
       "count  6513.000000  6513.000000  6513.000000\n",
       "mean      6.954187     2.642166     0.075954\n",
       "std       0.872202     0.972301     0.279561\n",
       "min       0.000000     0.000000     0.000000\n",
       "25%       6.450000     2.080000     0.000000\n",
       "50%       6.950000     2.940000     0.000000\n",
       "75%       7.470000     3.400000     0.000000\n",
       "max      11.780000     4.090000     3.580000"
      ]
     },
     "execution_count": 24,
     "metadata": {},
     "output_type": "execute_result"
    }
   ],
   "source": [
    "# beign k-means\n",
    "rfm_log = rfm[['money', 'recent','frequency']].apply(np.log, axis = 1).round(2)\n",
    "rfm_log.describe()"
   ]
  },
  {
   "cell_type": "code",
   "execution_count": 25,
   "metadata": {},
   "outputs": [
    {
     "data": {
      "text/html": [
       "<div>\n",
       "<style scoped>\n",
       "    .dataframe tbody tr th:only-of-type {\n",
       "        vertical-align: middle;\n",
       "    }\n",
       "\n",
       "    .dataframe tbody tr th {\n",
       "        vertical-align: top;\n",
       "    }\n",
       "\n",
       "    .dataframe thead th {\n",
       "        text-align: right;\n",
       "    }\n",
       "</style>\n",
       "<table border=\"1\" class=\"dataframe\">\n",
       "  <thead>\n",
       "    <tr style=\"text-align: right;\">\n",
       "      <th></th>\n",
       "      <th>money</th>\n",
       "      <th>recent</th>\n",
       "      <th>frequency</th>\n",
       "    </tr>\n",
       "  </thead>\n",
       "  <tbody>\n",
       "    <tr>\n",
       "      <th>count</th>\n",
       "      <td>6.513000e+03</td>\n",
       "      <td>6.513000e+03</td>\n",
       "      <td>6.513000e+03</td>\n",
       "    </tr>\n",
       "    <tr>\n",
       "      <th>mean</th>\n",
       "      <td>-2.097263e-14</td>\n",
       "      <td>7.882846e-14</td>\n",
       "      <td>1.570983e-16</td>\n",
       "    </tr>\n",
       "    <tr>\n",
       "      <th>std</th>\n",
       "      <td>1.000000e+00</td>\n",
       "      <td>1.000000e+00</td>\n",
       "      <td>1.000000e+00</td>\n",
       "    </tr>\n",
       "    <tr>\n",
       "      <th>min</th>\n",
       "      <td>-7.973142e+00</td>\n",
       "      <td>-2.717436e+00</td>\n",
       "      <td>-2.716910e-01</td>\n",
       "    </tr>\n",
       "    <tr>\n",
       "      <th>25%</th>\n",
       "      <td>-5.780625e-01</td>\n",
       "      <td>-5.781813e-01</td>\n",
       "      <td>-2.716910e-01</td>\n",
       "    </tr>\n",
       "    <tr>\n",
       "      <th>50%</th>\n",
       "      <td>-4.800508e-03</td>\n",
       "      <td>3.063182e-01</td>\n",
       "      <td>-2.716910e-01</td>\n",
       "    </tr>\n",
       "    <tr>\n",
       "      <th>75%</th>\n",
       "      <td>5.913919e-01</td>\n",
       "      <td>7.794226e-01</td>\n",
       "      <td>-2.716910e-01</td>\n",
       "    </tr>\n",
       "    <tr>\n",
       "      <th>max</th>\n",
       "      <td>5.532910e+00</td>\n",
       "      <td>1.489079e+00</td>\n",
       "      <td>1.253409e+01</td>\n",
       "    </tr>\n",
       "  </tbody>\n",
       "</table>\n",
       "</div>"
      ],
      "text/plain": [
       "              money        recent     frequency\n",
       "count  6.513000e+03  6.513000e+03  6.513000e+03\n",
       "mean  -2.097263e-14  7.882846e-14  1.570983e-16\n",
       "std    1.000000e+00  1.000000e+00  1.000000e+00\n",
       "min   -7.973142e+00 -2.717436e+00 -2.716910e-01\n",
       "25%   -5.780625e-01 -5.781813e-01 -2.716910e-01\n",
       "50%   -4.800508e-03  3.063182e-01 -2.716910e-01\n",
       "75%    5.913919e-01  7.794226e-01 -2.716910e-01\n",
       "max    5.532910e+00  1.489079e+00  1.253409e+01"
      ]
     },
     "execution_count": 25,
     "metadata": {},
     "output_type": "execute_result"
    }
   ],
   "source": [
    "rfm_log_zs = (rfm_log -rfm_log.mean())/rfm_log.std()\n",
    "rfm_log_zs.describe()"
   ]
  },
  {
   "cell_type": "code",
   "execution_count": 26,
   "metadata": {},
   "outputs": [],
   "source": [
    "from sklearn.cluster import KMeans\n",
    "ks = range(1, 9)\n",
    "inertias = []\n",
    "for k in ks:\n",
    "    kc = KMeans(n_clusters = k, random_state = 1)\n",
    "    kc.fit(rfm_log_zs)\n",
    "    inertias.append(kc.inertia_)"
   ]
  },
  {
   "cell_type": "code",
   "execution_count": 27,
   "metadata": {},
   "outputs": [
    {
     "data": {
      "text/plain": [
       "[19536.00000000095,\n",
       " 12892.750164905905,\n",
       " 8622.75877623543,\n",
       " 6170.618814870901,\n",
       " 5282.882622320965,\n",
       " 4436.7695387484255,\n",
       " 3778.252978827484,\n",
       " 3404.67483483878]"
      ]
     },
     "execution_count": 27,
     "metadata": {},
     "output_type": "execute_result"
    }
   ],
   "source": [
    "inertias"
   ]
  },
  {
   "cell_type": "code",
   "execution_count": 30,
   "metadata": {},
   "outputs": [
    {
     "data": {
      "text/plain": [
       "Text(0.5, 1.0, 'derivation-cluster number')"
      ]
     },
     "execution_count": 30,
     "metadata": {},
     "output_type": "execute_result"
    },
    {
     "data": {
      "image/png": "[encoded data removed]",
      "text/plain": [
       "<Figure size 432x288 with 1 Axes>"
      ]
     },
     "metadata": {
      "needs_background": "light"
     },
     "output_type": "display_data"
    }
   ],
   "source": [
    "import matplotlib.pyplot as plt\n",
    "f,ax = plt.subplots()\n",
    "plt.plot(ks, inertias, 'g-o')\n",
    "plt.xlabel('cluster number')\n",
    "plt.ylabel('cluster derivation')\n",
    "plt.title('derivation-cluster number')\n"
   ]
  },
  {
   "cell_type": "code",
   "execution_count": 33,
   "metadata": {},
   "outputs": [],
   "source": [
    "# caculate the modle use cluster number = 4\n",
    "clusterNum = 3\n",
    "model = KMeans(n_clusters = clusterNum, random_state = 1)\n",
    "model.fit(rfm_log_zs)\n",
    "cluster_labels = model.labels_\n",
    "rfm_kn = rfm.assign(cluster = cluster_labels)"
   ]
  },
  {
   "cell_type": "code",
   "execution_count": 34,
   "metadata": {},
   "outputs": [
    {
     "data": {
      "text/html": [
       "<div>\n",
       "<style scoped>\n",
       "    .dataframe tbody tr th:only-of-type {\n",
       "        vertical-align: middle;\n",
       "    }\n",
       "\n",
       "    .dataframe tbody tr th {\n",
       "        vertical-align: top;\n",
       "    }\n",
       "\n",
       "    .dataframe thead tr th {\n",
       "        text-align: left;\n",
       "    }\n",
       "\n",
       "    .dataframe thead tr:last-of-type th {\n",
       "        text-align: right;\n",
       "    }\n",
       "</style>\n",
       "<table border=\"1\" class=\"dataframe\">\n",
       "  <thead>\n",
       "    <tr>\n",
       "      <th></th>\n",
       "      <th colspan=\"2\" halign=\"left\">money</th>\n",
       "      <th>recent</th>\n",
       "      <th>frequency</th>\n",
       "    </tr>\n",
       "    <tr>\n",
       "      <th></th>\n",
       "      <th>mean</th>\n",
       "      <th>count</th>\n",
       "      <th>mean</th>\n",
       "      <th>mean</th>\n",
       "    </tr>\n",
       "    <tr>\n",
       "      <th>cluster</th>\n",
       "      <th></th>\n",
       "      <th></th>\n",
       "      <th></th>\n",
       "      <th></th>\n",
       "    </tr>\n",
       "  </thead>\n",
       "  <tbody>\n",
       "    <tr>\n",
       "      <th>0</th>\n",
       "      <td>1140.15</td>\n",
       "      <td>4289</td>\n",
       "      <td>25.84</td>\n",
       "      <td>1.00</td>\n",
       "    </tr>\n",
       "    <tr>\n",
       "      <th>1</th>\n",
       "      <td>5697.08</td>\n",
       "      <td>530</td>\n",
       "      <td>15.10</td>\n",
       "      <td>2.89</td>\n",
       "    </tr>\n",
       "    <tr>\n",
       "      <th>2</th>\n",
       "      <td>1481.95</td>\n",
       "      <td>1694</td>\n",
       "      <td>5.06</td>\n",
       "      <td>1.00</td>\n",
       "    </tr>\n",
       "  </tbody>\n",
       "</table>\n",
       "</div>"
      ],
      "text/plain": [
       "           money       recent frequency\n",
       "            mean count   mean      mean\n",
       "cluster                                \n",
       "0        1140.15  4289  25.84      1.00\n",
       "1        5697.08   530  15.10      2.89\n",
       "2        1481.95  1694   5.06      1.00"
      ]
     },
     "execution_count": 34,
     "metadata": {},
     "output_type": "execute_result"
    }
   ],
   "source": [
    "rfm_kn.groupby('cluster').agg({'money':['mean','count'], 'recent':'mean','frequency':'mean'}).round(2)"
   ]
  },
  {
   "cell_type": "code",
   "execution_count": 36,
   "metadata": {},
   "outputs": [
    {
     "data": {
      "text/plain": [
       "Text(0.5, 0, 'F')"
      ]
     },
     "execution_count": 36,
     "metadata": {},
     "output_type": "execute_result"
    },
    {
     "data": {
      "image/png": "[encoded data removed]",
      "text/plain": [
       "<Figure size 432x288 with 1 Axes>"
      ]
     },
     "metadata": {
      "needs_background": "light"
     },
     "output_type": "display_data"
    }
   ],
   "source": [
    "from mpl_toolkits.mplot3d import proj3d\n",
    "ax = plt.subplot(111, projection = '3d')\n",
    "ax.scatter(rfm_kn.iloc[:, 0], rfm_kn.iloc[:, 1], rfm_kn.iloc[:, 2], c = cluster_labels)\n",
    "ax.set_xlabel('M')\n",
    "ax.set_ylabel('R')\n",
    "ax.set_zlabel('F')\n"
   ]
  },
  {
   "cell_type": "code",
   "execution_count": 38,
   "metadata": {},
   "outputs": [],
   "source": [
    "writer = pd.ExcelWriter('./data/result.xlsx')\n",
    "df = pd.DataFrame(rfm_kn)\n",
    "df.to_excel(writer, 'Sheet1')\n",
    "writer.save()"
   ]
  },
  {
   "cell_type": "code",
   "execution_count": 39,
   "metadata": {},
   "outputs": [
    {
     "data": {
      "text/plain": [
       "Text(0.5, 1.0, 'user proportion ')"
      ]
     },
     "execution_count": 39,
     "metadata": {},
     "output_type": "execute_result"
    },
    {
     "data": {
      "image/png": "[encoded data removed]",
      "text/plain": [
       "<Figure size 432x288 with 1 Axes>"
      ]
     },
     "metadata": {},
     "output_type": "display_data"
    }
   ],
   "source": [
    "# drawing\n",
    "labels = ['cluster0', 'cluster1','cluster2']\n",
    "sizes = [4289, 530, 1694]\n",
    "explode = (0, 0.2, 0.1)\n",
    "plt.pie(sizes, explode = explode, labels = labels, autopct='%1.1f%%', shadow = False, startangle = 90)\n",
    "plt.title('user proportion ')"
   ]
  },
  {
   "cell_type": "code",
   "execution_count": 40,
   "metadata": {},
   "outputs": [
    {
     "data": {
      "text/html": [
       "<div>\n",
       "<style scoped>\n",
       "    .dataframe tbody tr th:only-of-type {\n",
       "        vertical-align: middle;\n",
       "    }\n",
       "\n",
       "    .dataframe tbody tr th {\n",
       "        vertical-align: top;\n",
       "    }\n",
       "\n",
       "    .dataframe thead th {\n",
       "        text-align: right;\n",
       "    }\n",
       "</style>\n",
       "<table border=\"1\" class=\"dataframe\">\n",
       "  <thead>\n",
       "    <tr style=\"text-align: right;\">\n",
       "      <th></th>\n",
       "      <th>money</th>\n",
       "    </tr>\n",
       "    <tr>\n",
       "      <th>cluster</th>\n",
       "      <th></th>\n",
       "    </tr>\n",
       "  </thead>\n",
       "  <tbody>\n",
       "    <tr>\n",
       "      <th>0</th>\n",
       "      <td>4890100.66</td>\n",
       "    </tr>\n",
       "    <tr>\n",
       "      <th>1</th>\n",
       "      <td>3019450.02</td>\n",
       "    </tr>\n",
       "    <tr>\n",
       "      <th>2</th>\n",
       "      <td>2510418.31</td>\n",
       "    </tr>\n",
       "  </tbody>\n",
       "</table>\n",
       "</div>"
      ],
      "text/plain": [
       "              money\n",
       "cluster            \n",
       "0        4890100.66\n",
       "1        3019450.02\n",
       "2        2510418.31"
      ]
     },
     "execution_count": 40,
     "metadata": {},
     "output_type": "execute_result"
    }
   ],
   "source": [
    "customer_sales = rfm_kn.groupby('cluster').agg({'money': 'sum'})\n",
    "customer_sales"
   ]
  },
  {
   "cell_type": "code",
   "execution_count": 42,
   "metadata": {},
   "outputs": [
    {
     "data": {
      "text/plain": [
       "Text(0.5, 1.0, 'value proportion ')"
      ]
     },
     "execution_count": 42,
     "metadata": {},
     "output_type": "execute_result"
    },
    {
     "data": {
      "image/png": "[encoded data removed]",
      "text/plain": [
       "<Figure size 432x288 with 1 Axes>"
      ]
     },
     "metadata": {},
     "output_type": "display_data"
    }
   ],
   "source": [
    "valueSizes = [4890100.66, 3019450.02, 2510418.31]\n",
    "valueExplode = (0, 0.2, 0.1)\n",
    "plt.pie(valueSizes, explode = valueExplode, labels = labels, autopct='%1.1f%%', shadow = False, startangle = 90)\n",
    "plt.title('value proportion ')"
   ]
  },
  {
   "cell_type": "code",
   "execution_count": null,
   "metadata": {},
   "outputs": [],
   "source": []
  }
 ],
 "metadata": {
  "kernelspec": {
   "display_name": "Python 3",
   "language": "python",
   "name": "python3"
  },
  "language_info": {
   "codemirror_mode": {
    "name": "ipython",
    "version": 3
   },
   "file_extension": ".py",
   "mimetype": "text/x-python",
   "name": "python",
   "nbconvert_exporter": "python",
   "pygments_lexer": "ipython3",
   "version": "3.6.9"
  }
 },
 "nbformat": 4,
 "nbformat_minor": 2
}
