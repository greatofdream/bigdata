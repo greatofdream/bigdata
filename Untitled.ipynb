{
 "cells": [
  {
   "cell_type": "code",
   "execution_count": 2,
   "metadata": {},
   "outputs": [],
   "source": [
    "import numpy as np\n",
    "import pandas as pd\n",
    "import datetime as dt\n",
    "import sys\n",
    "import src.rfm"
   ]
  },
  {
   "cell_type": "code",
   "execution_count": 4,
   "metadata": {},
   "outputs": [
    {
     "name": "stdout",
     "output_type": "stream",
     "text": [
      "duplicate quantity=0\n",
      "NAN quantity=0\n"
     ]
    }
   ],
   "source": [
    "finName = \"./data/example.csv\"\n",
    "sqlName = \"./data/buildTableU.sql\"\n",
    "name = src.rfm.extractHeader(sqlName)\n",
    "dataAll = pd.read_csv(finName, sep = '\\t',names = name[0]['会员消费菜品事实表'], header = None)\n",
    "filterName = ['会员编号', '消费日期', '消费时间', '菜品编号', '菜品名称', '菜品数量', '菜品单价' ]\n",
    "\n",
    "data = pd.DataFrame(dataAll, columns = filterName, dtype = 'object')\n",
    "# exclude duplicate and null\n",
    "dataNodup = data.drop_duplicates()\n",
    "print('duplicate quantity={}'.format(data.shape[0] - dataNodup.shape[0]))\n",
    "dataNodup = dataNodup.infer_objects()\n",
    "dataClear = dataNodup.dropna(how = 'any')\n",
    "print('NAN quantity={}'.format(dataNodup.shape[0] - dataClear.shape[0]))"
   ]
  },
  {
   "cell_type": "code",
   "execution_count": 6,
   "metadata": {},
   "outputs": [
    {
     "data": {
      "text/plain": [
       "会员编号      int64\n",
       "消费日期     object\n",
       "消费时间     object\n",
       "菜品编号      int64\n",
       "菜品名称     object\n",
       "菜品数量      int64\n",
       "菜品单价    float64\n",
       "dtype: object"
      ]
     },
     "execution_count": 6,
     "metadata": {},
     "output_type": "execute_result"
    }
   ],
   "source": [
    "dataClear.head()\n",
    "dataClear.dtypes"
   ]
  },
  {
   "cell_type": "code",
   "execution_count": 16,
   "metadata": {},
   "outputs": [
    {
     "data": {
      "text/plain": [
       "'2018-11-03'"
      ]
     },
     "execution_count": 16,
     "metadata": {},
     "output_type": "execute_result"
    }
   ],
   "source": [
    "a=dataClear['消费时间'][0:2]\n",
    "b=dataClear['消费日期'][0:2]\n",
    "b[0]"
   ]
  },
  {
   "cell_type": "code",
   "execution_count": 18,
   "metadata": {},
   "outputs": [
    {
     "data": {
      "text/plain": [
       "datetime.date(2018, 11, 3)"
      ]
     },
     "execution_count": 18,
     "metadata": {},
     "output_type": "execute_result"
    }
   ],
   "source": [
    "t=b[0].split('-')\n",
    "dt.date(int(t[0]),int(t[1]),int(t[2]))"
   ]
  },
  {
   "cell_type": "code",
   "execution_count": 21,
   "metadata": {},
   "outputs": [],
   "source": [
    "dataClear['price'] = dataClear['菜品数量']*dataClear['菜品单价']"
   ]
  },
  {
   "cell_type": "code",
   "execution_count": 22,
   "metadata": {},
   "outputs": [
    {
     "data": {
      "text/html": [
       "<div>\n",
       "<style scoped>\n",
       "    .dataframe tbody tr th:only-of-type {\n",
       "        vertical-align: middle;\n",
       "    }\n",
       "\n",
       "    .dataframe tbody tr th {\n",
       "        vertical-align: top;\n",
       "    }\n",
       "\n",
       "    .dataframe thead th {\n",
       "        text-align: right;\n",
       "    }\n",
       "</style>\n",
       "<table border=\"1\" class=\"dataframe\">\n",
       "  <thead>\n",
       "    <tr style=\"text-align: right;\">\n",
       "      <th></th>\n",
       "      <th>会员编号</th>\n",
       "      <th>消费日期</th>\n",
       "      <th>消费时间</th>\n",
       "      <th>菜品编号</th>\n",
       "      <th>菜品名称</th>\n",
       "      <th>菜品数量</th>\n",
       "      <th>菜品单价</th>\n",
       "      <th>price</th>\n",
       "    </tr>\n",
       "  </thead>\n",
       "  <tbody>\n",
       "    <tr>\n",
       "      <th>0</th>\n",
       "      <td>1033378582</td>\n",
       "      <td>2018-11-03</td>\n",
       "      <td>2018-11-03 16:57:41</td>\n",
       "      <td>1</td>\n",
       "      <td>菜品01</td>\n",
       "      <td>1</td>\n",
       "      <td>49.0</td>\n",
       "      <td>49.0</td>\n",
       "    </tr>\n",
       "    <tr>\n",
       "      <th>1</th>\n",
       "      <td>1033378582</td>\n",
       "      <td>2018-11-03</td>\n",
       "      <td>2018-11-03 16:57:41</td>\n",
       "      <td>10101</td>\n",
       "      <td>菜品010101</td>\n",
       "      <td>1</td>\n",
       "      <td>49.0</td>\n",
       "      <td>49.0</td>\n",
       "    </tr>\n",
       "    <tr>\n",
       "      <th>2</th>\n",
       "      <td>1033378582</td>\n",
       "      <td>2018-11-03</td>\n",
       "      <td>2018-11-03 16:57:41</td>\n",
       "      <td>2</td>\n",
       "      <td>菜品02</td>\n",
       "      <td>6</td>\n",
       "      <td>30.0</td>\n",
       "      <td>180.0</td>\n",
       "    </tr>\n",
       "    <tr>\n",
       "      <th>3</th>\n",
       "      <td>1033378582</td>\n",
       "      <td>2018-11-03</td>\n",
       "      <td>2018-11-03 16:57:41</td>\n",
       "      <td>20201</td>\n",
       "      <td>菜品020201</td>\n",
       "      <td>1</td>\n",
       "      <td>5.0</td>\n",
       "      <td>5.0</td>\n",
       "    </tr>\n",
       "    <tr>\n",
       "      <th>4</th>\n",
       "      <td>1033378582</td>\n",
       "      <td>2018-11-03</td>\n",
       "      <td>2018-11-03 16:57:41</td>\n",
       "      <td>20202</td>\n",
       "      <td>菜品020202</td>\n",
       "      <td>5</td>\n",
       "      <td>5.0</td>\n",
       "      <td>25.0</td>\n",
       "    </tr>\n",
       "  </tbody>\n",
       "</table>\n",
       "</div>"
      ],
      "text/plain": [
       "         会员编号        消费日期                 消费时间   菜品编号      菜品名称  菜品数量  菜品单价  \\\n",
       "0  1033378582  2018-11-03  2018-11-03 16:57:41      1      菜品01     1  49.0   \n",
       "1  1033378582  2018-11-03  2018-11-03 16:57:41  10101  菜品010101     1  49.0   \n",
       "2  1033378582  2018-11-03  2018-11-03 16:57:41      2      菜品02     6  30.0   \n",
       "3  1033378582  2018-11-03  2018-11-03 16:57:41  20201  菜品020201     1   5.0   \n",
       "4  1033378582  2018-11-03  2018-11-03 16:57:41  20202  菜品020202     5   5.0   \n",
       "\n",
       "   price  \n",
       "0   49.0  \n",
       "1   49.0  \n",
       "2  180.0  \n",
       "3    5.0  \n",
       "4   25.0  "
      ]
     },
     "execution_count": 22,
     "metadata": {},
     "output_type": "execute_result"
    }
   ],
   "source": [
    "dataClear.head()"
   ]
  },
  {
   "cell_type": "code",
   "execution_count": 26,
   "metadata": {},
   "outputs": [],
   "source": [
    "d = pd.DataFrame(dataClear,columns = ['会员编号', '消费日期', '消费时间','price'])\n",
    "price = d.groupby(['会员编号', '消费日期', '消费时间']).sum()"
   ]
  },
  {
   "cell_type": "code",
   "execution_count": 35,
   "metadata": {},
   "outputs": [
    {
     "data": {
      "text/html": [
       "<div>\n",
       "<style scoped>\n",
       "    .dataframe tbody tr th:only-of-type {\n",
       "        vertical-align: middle;\n",
       "    }\n",
       "\n",
       "    .dataframe tbody tr th {\n",
       "        vertical-align: top;\n",
       "    }\n",
       "\n",
       "    .dataframe thead th {\n",
       "        text-align: right;\n",
       "    }\n",
       "</style>\n",
       "<table border=\"1\" class=\"dataframe\">\n",
       "  <thead>\n",
       "    <tr style=\"text-align: right;\">\n",
       "      <th></th>\n",
       "      <th></th>\n",
       "      <th></th>\n",
       "      <th>price</th>\n",
       "    </tr>\n",
       "    <tr>\n",
       "      <th>会员编号</th>\n",
       "      <th>消费日期</th>\n",
       "      <th>消费时间</th>\n",
       "      <th></th>\n",
       "    </tr>\n",
       "  </thead>\n",
       "  <tbody>\n",
       "    <tr>\n",
       "      <th>1027478498</th>\n",
       "      <th>2018-12-28</th>\n",
       "      <th>2018-12-28 19:11:13</th>\n",
       "      <td>439.5</td>\n",
       "    </tr>\n",
       "    <tr>\n",
       "      <th>1027500144</th>\n",
       "      <th>2018-11-27</th>\n",
       "      <th>2018-11-27 13:08:10</th>\n",
       "      <td>270.0</td>\n",
       "    </tr>\n",
       "    <tr>\n",
       "      <th>1030794986</th>\n",
       "      <th>2018-11-05</th>\n",
       "      <th>2018-11-05 11:04:12</th>\n",
       "      <td>1.0</td>\n",
       "    </tr>\n",
       "    <tr>\n",
       "      <th>1030797014</th>\n",
       "      <th>2018-11-24</th>\n",
       "      <th>2018-11-24 14:03:56</th>\n",
       "      <td>248.0</td>\n",
       "    </tr>\n",
       "    <tr>\n",
       "      <th>1030904479</th>\n",
       "      <th>2018-11-12</th>\n",
       "      <th>2018-11-12 11:16:39</th>\n",
       "      <td>4.0</td>\n",
       "    </tr>\n",
       "    <tr>\n",
       "      <th>...</th>\n",
       "      <th>...</th>\n",
       "      <th>...</th>\n",
       "      <td>...</td>\n",
       "    </tr>\n",
       "    <tr>\n",
       "      <th>1042623876</th>\n",
       "      <th>2018-12-31</th>\n",
       "      <th>2018-12-31 22:16:06</th>\n",
       "      <td>2321.0</td>\n",
       "    </tr>\n",
       "    <tr>\n",
       "      <th>1042624064</th>\n",
       "      <th>2018-12-31</th>\n",
       "      <th>2018-12-31 22:17:07</th>\n",
       "      <td>509.0</td>\n",
       "    </tr>\n",
       "    <tr>\n",
       "      <th>1042624974</th>\n",
       "      <th>2018-12-31</th>\n",
       "      <th>2018-12-31 22:27:38</th>\n",
       "      <td>1790.5</td>\n",
       "    </tr>\n",
       "    <tr>\n",
       "      <th>1042625808</th>\n",
       "      <th>2018-12-31</th>\n",
       "      <th>2018-12-31 22:50:55</th>\n",
       "      <td>560.0</td>\n",
       "    </tr>\n",
       "    <tr>\n",
       "      <th>1042626541</th>\n",
       "      <th>2018-12-31</th>\n",
       "      <th>2018-12-31 22:50:15</th>\n",
       "      <td>666.5</td>\n",
       "    </tr>\n",
       "  </tbody>\n",
       "</table>\n",
       "<p>7350 rows × 1 columns</p>\n",
       "</div>"
      ],
      "text/plain": [
       "                                            price\n",
       "会员编号       消费日期       消费时间                       \n",
       "1027478498 2018-12-28 2018-12-28 19:11:13   439.5\n",
       "1027500144 2018-11-27 2018-11-27 13:08:10   270.0\n",
       "1030794986 2018-11-05 2018-11-05 11:04:12     1.0\n",
       "1030797014 2018-11-24 2018-11-24 14:03:56   248.0\n",
       "1030904479 2018-11-12 2018-11-12 11:16:39     4.0\n",
       "...                                           ...\n",
       "1042623876 2018-12-31 2018-12-31 22:16:06  2321.0\n",
       "1042624064 2018-12-31 2018-12-31 22:17:07   509.0\n",
       "1042624974 2018-12-31 2018-12-31 22:27:38  1790.5\n",
       "1042625808 2018-12-31 2018-12-31 22:50:55   560.0\n",
       "1042626541 2018-12-31 2018-12-31 22:50:15   666.5\n",
       "\n",
       "[7350 rows x 1 columns]"
      ]
     },
     "execution_count": 35,
     "metadata": {},
     "output_type": "execute_result"
    }
   ],
   "source": [
    "price.groupby('会员编号').head()"
   ]
  },
  {
   "cell_type": "code",
   "execution_count": 46,
   "metadata": {},
   "outputs": [
    {
     "data": {
      "text/html": [
       "<div>\n",
       "<style scoped>\n",
       "    .dataframe tbody tr th:only-of-type {\n",
       "        vertical-align: middle;\n",
       "    }\n",
       "\n",
       "    .dataframe tbody tr th {\n",
       "        vertical-align: top;\n",
       "    }\n",
       "\n",
       "    .dataframe thead th {\n",
       "        text-align: right;\n",
       "    }\n",
       "</style>\n",
       "<table border=\"1\" class=\"dataframe\">\n",
       "  <thead>\n",
       "    <tr style=\"text-align: right;\">\n",
       "      <th></th>\n",
       "      <th>会员编号</th>\n",
       "      <th>消费日期</th>\n",
       "      <th>消费时间</th>\n",
       "      <th>price</th>\n",
       "    </tr>\n",
       "  </thead>\n",
       "  <tbody>\n",
       "    <tr>\n",
       "      <th>0</th>\n",
       "      <td>1027478498</td>\n",
       "      <td>2018-12-28</td>\n",
       "      <td>2018-12-28 19:11:13</td>\n",
       "      <td>439.5</td>\n",
       "    </tr>\n",
       "    <tr>\n",
       "      <th>1</th>\n",
       "      <td>1027500144</td>\n",
       "      <td>2018-11-27</td>\n",
       "      <td>2018-11-27 13:08:10</td>\n",
       "      <td>270.0</td>\n",
       "    </tr>\n",
       "    <tr>\n",
       "      <th>2</th>\n",
       "      <td>1030794986</td>\n",
       "      <td>2018-11-05</td>\n",
       "      <td>2018-11-05 11:04:12</td>\n",
       "      <td>1.0</td>\n",
       "    </tr>\n",
       "    <tr>\n",
       "      <th>3</th>\n",
       "      <td>1030797014</td>\n",
       "      <td>2018-11-24</td>\n",
       "      <td>2018-11-24 14:03:56</td>\n",
       "      <td>248.0</td>\n",
       "    </tr>\n",
       "    <tr>\n",
       "      <th>4</th>\n",
       "      <td>1030904479</td>\n",
       "      <td>2018-11-12</td>\n",
       "      <td>2018-11-12 11:16:39</td>\n",
       "      <td>4.0</td>\n",
       "    </tr>\n",
       "  </tbody>\n",
       "</table>\n",
       "</div>"
      ],
      "text/plain": [
       "         会员编号        消费日期                 消费时间  price\n",
       "0  1027478498  2018-12-28  2018-12-28 19:11:13  439.5\n",
       "1  1027500144  2018-11-27  2018-11-27 13:08:10  270.0\n",
       "2  1030794986  2018-11-05  2018-11-05 11:04:12    1.0\n",
       "3  1030797014  2018-11-24  2018-11-24 14:03:56  248.0\n",
       "4  1030904479  2018-11-12  2018-11-12 11:16:39    4.0"
      ]
     },
     "execution_count": 46,
     "metadata": {},
     "output_type": "execute_result"
    }
   ],
   "source": [
    "d = price.reset_index()\n",
    "d.head()"
   ]
  },
  {
   "cell_type": "code",
   "execution_count": 49,
   "metadata": {},
   "outputs": [],
   "source": [
    "date = pd.DataFrame(d,columns = ['会员编号', '消费日期'])"
   ]
  },
  {
   "cell_type": "code",
   "execution_count": 51,
   "metadata": {},
   "outputs": [
    {
     "data": {
      "text/html": [
       "<div>\n",
       "<style scoped>\n",
       "    .dataframe tbody tr th:only-of-type {\n",
       "        vertical-align: middle;\n",
       "    }\n",
       "\n",
       "    .dataframe tbody tr th {\n",
       "        vertical-align: top;\n",
       "    }\n",
       "\n",
       "    .dataframe thead th {\n",
       "        text-align: right;\n",
       "    }\n",
       "</style>\n",
       "<table border=\"1\" class=\"dataframe\">\n",
       "  <thead>\n",
       "    <tr style=\"text-align: right;\">\n",
       "      <th></th>\n",
       "      <th>会员编号</th>\n",
       "      <th>消费日期</th>\n",
       "    </tr>\n",
       "  </thead>\n",
       "  <tbody>\n",
       "    <tr>\n",
       "      <th>0</th>\n",
       "      <td>1027478498</td>\n",
       "      <td>2018-12-28</td>\n",
       "    </tr>\n",
       "    <tr>\n",
       "      <th>1</th>\n",
       "      <td>1027500144</td>\n",
       "      <td>2018-11-27</td>\n",
       "    </tr>\n",
       "    <tr>\n",
       "      <th>2</th>\n",
       "      <td>1030794986</td>\n",
       "      <td>2018-11-05</td>\n",
       "    </tr>\n",
       "    <tr>\n",
       "      <th>3</th>\n",
       "      <td>1030797014</td>\n",
       "      <td>2018-11-24</td>\n",
       "    </tr>\n",
       "    <tr>\n",
       "      <th>4</th>\n",
       "      <td>1030904479</td>\n",
       "      <td>2018-11-12</td>\n",
       "    </tr>\n",
       "    <tr>\n",
       "      <th>...</th>\n",
       "      <td>...</td>\n",
       "      <td>...</td>\n",
       "    </tr>\n",
       "    <tr>\n",
       "      <th>7519</th>\n",
       "      <td>1042623876</td>\n",
       "      <td>2018-12-31</td>\n",
       "    </tr>\n",
       "    <tr>\n",
       "      <th>7520</th>\n",
       "      <td>1042624064</td>\n",
       "      <td>2018-12-31</td>\n",
       "    </tr>\n",
       "    <tr>\n",
       "      <th>7521</th>\n",
       "      <td>1042624974</td>\n",
       "      <td>2018-12-31</td>\n",
       "    </tr>\n",
       "    <tr>\n",
       "      <th>7522</th>\n",
       "      <td>1042625808</td>\n",
       "      <td>2018-12-31</td>\n",
       "    </tr>\n",
       "    <tr>\n",
       "      <th>7523</th>\n",
       "      <td>1042626541</td>\n",
       "      <td>2018-12-31</td>\n",
       "    </tr>\n",
       "  </tbody>\n",
       "</table>\n",
       "<p>7350 rows × 2 columns</p>\n",
       "</div>"
      ],
      "text/plain": [
       "            会员编号        消费日期\n",
       "0     1027478498  2018-12-28\n",
       "1     1027500144  2018-11-27\n",
       "2     1030794986  2018-11-05\n",
       "3     1030797014  2018-11-24\n",
       "4     1030904479  2018-11-12\n",
       "...          ...         ...\n",
       "7519  1042623876  2018-12-31\n",
       "7520  1042624064  2018-12-31\n",
       "7521  1042624974  2018-12-31\n",
       "7522  1042625808  2018-12-31\n",
       "7523  1042626541  2018-12-31\n",
       "\n",
       "[7350 rows x 2 columns]"
      ]
     },
     "execution_count": 51,
     "metadata": {},
     "output_type": "execute_result"
    }
   ],
   "source": [
    "date = date.groupby('会员编号')\n",
    "date.head()"
   ]
  },
  {
   "cell_type": "code",
   "execution_count": 52,
   "metadata": {},
   "outputs": [],
   "source": [
    "recent = date['消费日期'].max()\n",
    "frequency = date['消费日期'].count()"
   ]
  },
  {
   "cell_type": "code",
   "execution_count": 61,
   "metadata": {},
   "outputs": [
    {
     "data": {
      "text/plain": [
       "会员编号\n",
       "1027478498    439.5\n",
       "1027500144    270.0\n",
       "1030794986      1.0\n",
       "1030797014    248.0\n",
       "1030904479      4.0\n",
       "Name: price, dtype: float64"
      ]
     },
     "execution_count": 61,
     "metadata": {},
     "output_type": "execute_result"
    }
   ],
   "source": [
    "pricesum = d.groupby('会员编号')['price'].sum()\n",
    "pricesum.head()"
   ]
  },
  {
   "cell_type": "code",
   "execution_count": 29,
   "metadata": {},
   "outputs": [
    {
     "data": {
      "text/html": [
       "<div>\n",
       "<style scoped>\n",
       "    .dataframe tbody tr th:only-of-type {\n",
       "        vertical-align: middle;\n",
       "    }\n",
       "\n",
       "    .dataframe tbody tr th {\n",
       "        vertical-align: top;\n",
       "    }\n",
       "\n",
       "    .dataframe thead th {\n",
       "        text-align: right;\n",
       "    }\n",
       "</style>\n",
       "<table border=\"1\" class=\"dataframe\">\n",
       "  <thead>\n",
       "    <tr style=\"text-align: right;\">\n",
       "      <th></th>\n",
       "      <th></th>\n",
       "      <th></th>\n",
       "      <th>price</th>\n",
       "    </tr>\n",
       "    <tr>\n",
       "      <th>会员编号</th>\n",
       "      <th>消费日期</th>\n",
       "      <th>消费时间</th>\n",
       "      <th></th>\n",
       "    </tr>\n",
       "  </thead>\n",
       "  <tbody>\n",
       "    <tr>\n",
       "      <th>1027478498</th>\n",
       "      <th>2018-12-28</th>\n",
       "      <th>2018-12-28 19:11:13</th>\n",
       "      <td>439.5</td>\n",
       "    </tr>\n",
       "    <tr>\n",
       "      <th>1027500144</th>\n",
       "      <th>2018-11-27</th>\n",
       "      <th>2018-11-27 13:08:10</th>\n",
       "      <td>270.0</td>\n",
       "    </tr>\n",
       "    <tr>\n",
       "      <th>1030794986</th>\n",
       "      <th>2018-11-05</th>\n",
       "      <th>2018-11-05 11:04:12</th>\n",
       "      <td>1.0</td>\n",
       "    </tr>\n",
       "    <tr>\n",
       "      <th>1030797014</th>\n",
       "      <th>2018-11-24</th>\n",
       "      <th>2018-11-24 14:03:56</th>\n",
       "      <td>248.0</td>\n",
       "    </tr>\n",
       "    <tr>\n",
       "      <th>1030904479</th>\n",
       "      <th>2018-11-12</th>\n",
       "      <th>2018-11-12 11:16:39</th>\n",
       "      <td>4.0</td>\n",
       "    </tr>\n",
       "    <tr>\n",
       "      <th>...</th>\n",
       "      <th>...</th>\n",
       "      <th>...</th>\n",
       "      <td>...</td>\n",
       "    </tr>\n",
       "    <tr>\n",
       "      <th>1042623876</th>\n",
       "      <th>2018-12-31</th>\n",
       "      <th>2018-12-31 22:16:06</th>\n",
       "      <td>2321.0</td>\n",
       "    </tr>\n",
       "    <tr>\n",
       "      <th>1042624064</th>\n",
       "      <th>2018-12-31</th>\n",
       "      <th>2018-12-31 22:17:07</th>\n",
       "      <td>509.0</td>\n",
       "    </tr>\n",
       "    <tr>\n",
       "      <th>1042624974</th>\n",
       "      <th>2018-12-31</th>\n",
       "      <th>2018-12-31 22:27:38</th>\n",
       "      <td>1790.5</td>\n",
       "    </tr>\n",
       "    <tr>\n",
       "      <th>1042625808</th>\n",
       "      <th>2018-12-31</th>\n",
       "      <th>2018-12-31 22:50:55</th>\n",
       "      <td>560.0</td>\n",
       "    </tr>\n",
       "    <tr>\n",
       "      <th>1042626541</th>\n",
       "      <th>2018-12-31</th>\n",
       "      <th>2018-12-31 22:50:15</th>\n",
       "      <td>666.5</td>\n",
       "    </tr>\n",
       "  </tbody>\n",
       "</table>\n",
       "<p>7524 rows × 1 columns</p>\n",
       "</div>"
      ],
      "text/plain": [
       "                                            price\n",
       "会员编号       消费日期       消费时间                       \n",
       "1027478498 2018-12-28 2018-12-28 19:11:13   439.5\n",
       "1027500144 2018-11-27 2018-11-27 13:08:10   270.0\n",
       "1030794986 2018-11-05 2018-11-05 11:04:12     1.0\n",
       "1030797014 2018-11-24 2018-11-24 14:03:56   248.0\n",
       "1030904479 2018-11-12 2018-11-12 11:16:39     4.0\n",
       "...                                           ...\n",
       "1042623876 2018-12-31 2018-12-31 22:16:06  2321.0\n",
       "1042624064 2018-12-31 2018-12-31 22:17:07   509.0\n",
       "1042624974 2018-12-31 2018-12-31 22:27:38  1790.5\n",
       "1042625808 2018-12-31 2018-12-31 22:50:55   560.0\n",
       "1042626541 2018-12-31 2018-12-31 22:50:15   666.5\n",
       "\n",
       "[7524 rows x 1 columns]"
      ]
     },
     "execution_count": 29,
     "metadata": {},
     "output_type": "execute_result"
    }
   ],
   "source": [
    "price.sort_values(by = '会员编号')"
   ]
  },
  {
   "cell_type": "code",
   "execution_count": 64,
   "metadata": {},
   "outputs": [],
   "source": [
    "rfm = pd.merge(pd.merge(pricesum,recent, on ='会员编号'),frequency,on='会员编号')"
   ]
  },
  {
   "cell_type": "code",
   "execution_count": 67,
   "metadata": {},
   "outputs": [
    {
     "data": {
      "text/plain": [
       "(6513, 3)"
      ]
     },
     "execution_count": 67,
     "metadata": {},
     "output_type": "execute_result"
    }
   ],
   "source": [
    "rfm.shape"
   ]
  },
  {
   "cell_type": "code",
   "execution_count": 68,
   "metadata": {},
   "outputs": [],
   "source": [
    "rfm.rename(columns={'price':'money', '消费日期_x':'recent', '消费日期_y':'frequency'}, inplace=True)"
   ]
  },
  {
   "cell_type": "code",
   "execution_count": 69,
   "metadata": {},
   "outputs": [
    {
     "data": {
      "text/html": [
       "<div>\n",
       "<style scoped>\n",
       "    .dataframe tbody tr th:only-of-type {\n",
       "        vertical-align: middle;\n",
       "    }\n",
       "\n",
       "    .dataframe tbody tr th {\n",
       "        vertical-align: top;\n",
       "    }\n",
       "\n",
       "    .dataframe thead th {\n",
       "        text-align: right;\n",
       "    }\n",
       "</style>\n",
       "<table border=\"1\" class=\"dataframe\">\n",
       "  <thead>\n",
       "    <tr style=\"text-align: right;\">\n",
       "      <th></th>\n",
       "      <th>money</th>\n",
       "      <th>recent</th>\n",
       "      <th>frequency</th>\n",
       "    </tr>\n",
       "    <tr>\n",
       "      <th>会员编号</th>\n",
       "      <th></th>\n",
       "      <th></th>\n",
       "      <th></th>\n",
       "    </tr>\n",
       "  </thead>\n",
       "  <tbody>\n",
       "    <tr>\n",
       "      <th>1027478498</th>\n",
       "      <td>439.5</td>\n",
       "      <td>2018-12-28</td>\n",
       "      <td>1</td>\n",
       "    </tr>\n",
       "    <tr>\n",
       "      <th>1027500144</th>\n",
       "      <td>270.0</td>\n",
       "      <td>2018-11-27</td>\n",
       "      <td>1</td>\n",
       "    </tr>\n",
       "    <tr>\n",
       "      <th>1030794986</th>\n",
       "      <td>1.0</td>\n",
       "      <td>2018-11-05</td>\n",
       "      <td>1</td>\n",
       "    </tr>\n",
       "    <tr>\n",
       "      <th>1030797014</th>\n",
       "      <td>248.0</td>\n",
       "      <td>2018-11-24</td>\n",
       "      <td>1</td>\n",
       "    </tr>\n",
       "    <tr>\n",
       "      <th>1030904479</th>\n",
       "      <td>4.0</td>\n",
       "      <td>2018-11-12</td>\n",
       "      <td>1</td>\n",
       "    </tr>\n",
       "  </tbody>\n",
       "</table>\n",
       "</div>"
      ],
      "text/plain": [
       "            money      recent  frequency\n",
       "会员编号                                    \n",
       "1027478498  439.5  2018-12-28          1\n",
       "1027500144  270.0  2018-11-27          1\n",
       "1030794986    1.0  2018-11-05          1\n",
       "1030797014  248.0  2018-11-24          1\n",
       "1030904479    4.0  2018-11-12          1"
      ]
     },
     "execution_count": 69,
     "metadata": {},
     "output_type": "execute_result"
    }
   ],
   "source": [
    "rfm.head()"
   ]
  },
  {
   "cell_type": "code",
   "execution_count": 71,
   "metadata": {},
   "outputs": [
    {
     "data": {
      "text/html": [
       "<div>\n",
       "<style scoped>\n",
       "    .dataframe tbody tr th:only-of-type {\n",
       "        vertical-align: middle;\n",
       "    }\n",
       "\n",
       "    .dataframe tbody tr th {\n",
       "        vertical-align: top;\n",
       "    }\n",
       "\n",
       "    .dataframe thead th {\n",
       "        text-align: right;\n",
       "    }\n",
       "</style>\n",
       "<table border=\"1\" class=\"dataframe\">\n",
       "  <thead>\n",
       "    <tr style=\"text-align: right;\">\n",
       "      <th></th>\n",
       "      <th>money</th>\n",
       "      <th>frequency</th>\n",
       "    </tr>\n",
       "  </thead>\n",
       "  <tbody>\n",
       "    <tr>\n",
       "      <th>count</th>\n",
       "      <td>6513.000000</td>\n",
       "      <td>6513.000000</td>\n",
       "    </tr>\n",
       "    <tr>\n",
       "      <th>mean</th>\n",
       "      <td>1599.872407</td>\n",
       "      <td>1.155228</td>\n",
       "    </tr>\n",
       "    <tr>\n",
       "      <th>std</th>\n",
       "      <td>2992.408568</td>\n",
       "      <td>0.947976</td>\n",
       "    </tr>\n",
       "    <tr>\n",
       "      <th>min</th>\n",
       "      <td>1.000000</td>\n",
       "      <td>1.000000</td>\n",
       "    </tr>\n",
       "    <tr>\n",
       "      <th>25%</th>\n",
       "      <td>632.000000</td>\n",
       "      <td>1.000000</td>\n",
       "    </tr>\n",
       "    <tr>\n",
       "      <th>50%</th>\n",
       "      <td>1042.000000</td>\n",
       "      <td>1.000000</td>\n",
       "    </tr>\n",
       "    <tr>\n",
       "      <th>75%</th>\n",
       "      <td>1748.500000</td>\n",
       "      <td>1.000000</td>\n",
       "    </tr>\n",
       "    <tr>\n",
       "      <th>max</th>\n",
       "      <td>130870.000000</td>\n",
       "      <td>36.000000</td>\n",
       "    </tr>\n",
       "  </tbody>\n",
       "</table>\n",
       "</div>"
      ],
      "text/plain": [
       "               money    frequency\n",
       "count    6513.000000  6513.000000\n",
       "mean     1599.872407     1.155228\n",
       "std      2992.408568     0.947976\n",
       "min         1.000000     1.000000\n",
       "25%       632.000000     1.000000\n",
       "50%      1042.000000     1.000000\n",
       "75%      1748.500000     1.000000\n",
       "max    130870.000000    36.000000"
      ]
     },
     "execution_count": 71,
     "metadata": {},
     "output_type": "execute_result"
    }
   ],
   "source": [
    "rfm.describe()"
   ]
  },
  {
   "cell_type": "code",
   "execution_count": null,
   "metadata": {},
   "outputs": [],
   "source": []
  }
 ],
 "metadata": {
  "kernelspec": {
   "display_name": "Python 3",
   "language": "python",
   "name": "python3"
  },
  "language_info": {
   "codemirror_mode": {
    "name": "ipython",
    "version": 3
   },
   "file_extension": ".py",
   "mimetype": "text/x-python",
   "name": "python",
   "nbconvert_exporter": "python",
   "pygments_lexer": "ipython3",
   "version": "3.6.9"
  }
 },
 "nbformat": 4,
 "nbformat_minor": 2
}
