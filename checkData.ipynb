{
 "cells": [
  {
   "cell_type": "code",
   "execution_count": 1,
   "metadata": {},
   "outputs": [],
   "source": [
    "import numpy as np\n",
    "import pandas as pd\n",
    "import datetime as dt\n",
    "import sys\n",
    "import src.rfm"
   ]
  },
  {
   "cell_type": "code",
   "execution_count": 3,
   "metadata": {},
   "outputs": [
    {
     "name": "stderr",
     "output_type": "stream",
     "text": [
      "c:\\users\\pcdell\\appdata\\local\\programs\\python\\python36-32\\lib\\site-packages\\IPython\\core\\interactiveshell.py:2785: DtypeWarning: Columns (36) have mixed types. Specify dtype option on import or set low_memory=False.\n",
      "  interactivity=interactivity, compiler=compiler, result=result)\n"
     ]
    }
   ],
   "source": [
    "data = pd.read_csv(\"../qinghua_markting.txt\",sep='\\t')"
   ]
  },
  {
   "cell_type": "code",
   "execution_count": 22,
   "metadata": {},
   "outputs": [
    {
     "data": {
      "text/plain": [
       "88888                                88888\n",
       "2018-11-22                      2018-11-22\n",
       "1129264876                      1129265004\n",
       "集团888888                          集团888888\n",
       "2018-07-13 16:50:16    2018-07-13 16:50:16\n",
       "116571                              116571\n",
       "门店116571                          门店116571\n",
       "2018-11-02 18:11:04    2018-11-02 18:11:04\n",
       "NULL                                   NaN\n",
       "NULL.1                                 NaN\n",
       "NULL.2                                 NaN\n",
       "中国                                      中国\n",
       "河南省                                    河南省\n",
       "郑州市                                    郑州市\n",
       "金水区                                    金水区\n",
       "1036079491                      1036079517\n",
       "Name: 0, dtype: object"
      ]
     },
     "execution_count": 22,
     "metadata": {},
     "output_type": "execute_result"
    }
   ],
   "source": [
    "data.iloc[0,0:16]"
   ]
  },
  {
   "cell_type": "code",
   "execution_count": 29,
   "metadata": {},
   "outputs": [
    {
     "data": {
      "text/plain": [
       "47590    1027348110\n",
       "65837    1027478498\n",
       "63726    1028177443\n",
       "60814    1028265945\n",
       "22233    1028734602\n",
       "Name: 1036079491, dtype: int64"
      ]
     },
     "execution_count": 29,
     "metadata": {},
     "output_type": "execute_result"
    }
   ],
   "source": [
    "a=data['1036079491'].sort_values()\n",
    "a.head()"
   ]
  },
  {
   "cell_type": "code",
   "execution_count": 30,
   "metadata": {},
   "outputs": [
    {
     "data": {
      "text/plain": [
       "(array([11499], dtype=int32),)"
      ]
     },
     "execution_count": 30,
     "metadata": {},
     "output_type": "execute_result"
    }
   ],
   "source": [
    "np.where(a.to_numpy()==1042626541)"
   ]
  },
  {
   "cell_type": "code",
   "execution_count": 10,
   "metadata": {},
   "outputs": [],
   "source": [
    "cosume_memer = pd.read_csv('../qinghua_consume_member', sep='\\t')"
   ]
  },
  {
   "cell_type": "code",
   "execution_count": 12,
   "metadata": {},
   "outputs": [
    {
     "data": {
      "text/plain": [
       "(7568, 67)"
      ]
     },
     "execution_count": 12,
     "metadata": {},
     "output_type": "execute_result"
    }
   ],
   "source": [
    "cosume_memer.shape"
   ]
  },
  {
   "cell_type": "code",
   "execution_count": 17,
   "metadata": {},
   "outputs": [
    {
     "data": {
      "text/plain": [
       "88888                                88888\n",
       "68964                                68964\n",
       "2018-11-03                      2018-11-05\n",
       "10000310088351138        10000310088855854\n",
       "集团888888                          集团888888\n",
       "2018-07-13 16:50:16    2018-07-13 16:50:16\n",
       "门店68964                            门店68964\n",
       "2018-11-02 18:14:16    2018-11-02 18:14:16\n",
       "中国                                      中国\n",
       "河南省                                    河南省\n",
       "郑州市                                    郑州市\n",
       "金水区                                    金水区\n",
       "1033359687                      1033559072\n",
       "包                                      NaN\n",
       "Name: 0, dtype: object"
      ]
     },
     "execution_count": 17,
     "metadata": {},
     "output_type": "execute_result"
    }
   ],
   "source": [
    "cosume_memer.iloc[0,0:14]"
   ]
  },
  {
   "cell_type": "code",
   "execution_count": 20,
   "metadata": {},
   "outputs": [
    {
     "data": {
      "text/plain": [
       "4996    1042623876\n",
       "3036    1042624064\n",
       "1793    1042624974\n",
       "6980    1042625808\n",
       "3667    1042626541\n",
       "Name: 1033359687, dtype: int64"
      ]
     },
     "execution_count": 20,
     "metadata": {},
     "output_type": "execute_result"
    }
   ],
   "source": [
    "cosume_memer['1033359687'].sort_values().tail()"
   ]
  },
  {
   "cell_type": "code",
   "execution_count": null,
   "metadata": {},
   "outputs": [],
   "source": []
  }
 ],
 "metadata": {
  "kernelspec": {
   "display_name": "Python 3",
   "language": "python",
   "name": "python3"
  },
  "language_info": {
   "codemirror_mode": {
    "name": "ipython",
    "version": 3
   },
   "file_extension": ".py",
   "mimetype": "text/x-python",
   "name": "python",
   "nbconvert_exporter": "python",
   "pygments_lexer": "ipython3",
   "version": "3.6.1"
  }
 },
 "nbformat": 4,
 "nbformat_minor": 2
}
